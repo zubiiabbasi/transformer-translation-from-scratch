{
 "cells": [
  {
   "cell_type": "code",
   "execution_count": 2,
   "id": "a361a6a3",
   "metadata": {},
   "outputs": [],
   "source": [
    "from pathlib import Path\n",
    "import torch\n",
    "import torch.nn as nn\n",
    "from config import get_config, get_weights_path\n",
    "from train import get_model, get_dataset, run_validation\n",
    "from translate import translate"
   ]
  },
  {
   "cell_type": "code",
   "execution_count": 31,
   "id": "96a7a0f1",
   "metadata": {},
   "outputs": [
    {
     "name": "stdout",
     "output_type": "stream",
     "text": [
      "Using device: cpu\n",
      "Max source length: 479, Max target length: 466\n",
      "Max source length: 479, Max target length: 466\n"
     ]
    },
    {
     "data": {
      "text/plain": [
       "<All keys matched successfully>"
      ]
     },
     "execution_count": 31,
     "metadata": {},
     "output_type": "execute_result"
    }
   ],
   "source": [
    "# Define the device\n",
    "device = torch.device(\"cuda\" if torch.cuda.is_available() else \"cpu\")\n",
    "print(\"Using device:\", device)\n",
    "config = get_config()\n",
    "train_dataloader, val_dataloader, tokenizer_src, tokenizer_tgt = get_dataset(config)\n",
    "model = get_model(config, tokenizer_src.get_vocab_size(), tokenizer_tgt.get_vocab_size()).to(device)\n",
    "\n",
    "# Load the pretrained weights\n",
    "model_filename = get_weights_path(config, f\"29\")   # Use the specific epoch or best model\n",
    "state = torch.load(model_filename, map_location=device)\n",
    "model.load_state_dict(state['model_state_dict'])"
   ]
  },
  {
   "cell_type": "code",
   "execution_count": 12,
   "id": "b50909fe",
   "metadata": {},
   "outputs": [
    {
     "name": "stdout",
     "output_type": "stream",
     "text": [
      "--------------------------------------------------------------------------------\n",
      "    SOURCE: »Ja, Sir.«\n",
      "    TARGET: \"Yes, sir.\"\n",
      " PREDICTED: \" Yes , sir .\"\n",
      "--------------------------------------------------------------------------------\n",
      "    SOURCE: Man drängte nach dem Billardzimmer.\n",
      "    TARGET: Guests were flocking to the billiard room.\n",
      " PREDICTED: The billiard - table was pushed toward the billiard - table .\n",
      "--------------------------------------------------------------------------------\n",
      "    SOURCE: Man drängte nach dem Billardzimmer.\n",
      "    TARGET: Guests were flocking to the billiard room.\n",
      " PREDICTED: The billiard - table was pushed toward the billiard - table .\n",
      "--------------------------------------------------------------------------------\n",
      "    SOURCE: Der Amtmann des Justizpalastes ist verpflichtet, den völlig abgeurtheilten Missethäter zur Hinrichtung an den Oberrichter beim Châtelet auszuliefern, wenn jener ein Laie ist; ist es ein Geistlicher, an den Gerichtsbeamten des Bischofssitzes.«\n",
      "    TARGET: The bailiff of the courts is bound to deliver the malefactor ready judged for execution if he be a layman, to the provost of Paris; if a clerk, to the official of the bishopric.\"\n",
      " PREDICTED: The bailiff of the courts is bound to deliver the ready execution if he be a layman , to the provost of Paris ; if he is to attend a clerk of the official Court of Parliament , he is one of the official court .\"\n",
      "--------------------------------------------------------------------------------\n",
      "    SOURCE: Der Amtmann des Justizpalastes ist verpflichtet, den völlig abgeurtheilten Missethäter zur Hinrichtung an den Oberrichter beim Châtelet auszuliefern, wenn jener ein Laie ist; ist es ein Geistlicher, an den Gerichtsbeamten des Bischofssitzes.«\n",
      "    TARGET: The bailiff of the courts is bound to deliver the malefactor ready judged for execution if he be a layman, to the provost of Paris; if a clerk, to the official of the bishopric.\"\n",
      " PREDICTED: The bailiff of the courts is bound to deliver the ready execution if he be a layman , to the provost of Paris ; if he is to attend a clerk of the official Court of Parliament , he is one of the official court .\"\n",
      "--------------------------------------------------------------------------------\n",
      "    SOURCE: Um das aufgerichtete Wort zu vernichten, be darf's eines gesellschaftlichen Umsturzes, einer Erdrevolution.\n",
      "    TARGET: To demolish the constructed word, a social revolution, a terrestrial revolution are required.\n",
      " PREDICTED: To demolish the constructed word , a social revolution , a terrestrial revolution are required .\n",
      "--------------------------------------------------------------------------------\n",
      "    SOURCE: Um das aufgerichtete Wort zu vernichten, be darf's eines gesellschaftlichen Umsturzes, einer Erdrevolution.\n",
      "    TARGET: To demolish the constructed word, a social revolution, a terrestrial revolution are required.\n",
      " PREDICTED: To demolish the constructed word , a social revolution , a terrestrial revolution are required .\n",
      "--------------------------------------------------------------------------------\n",
      "    SOURCE: »Zauderin,« sagte er, »mein Gehirn flammt vor Ungeduld, und du zögerst so lange!«\n",
      "    TARGET: \"Lingerer!\" he said, \"my brain is on fire with impatience, and you tarry so long!\"\n",
      " PREDICTED: \" !\" said he , \" my brain is on fire with impatience , and you tarry so long !\"\n",
      "--------------------------------------------------------------------------------\n",
      "    SOURCE: »Zauderin,« sagte er, »mein Gehirn flammt vor Ungeduld, und du zögerst so lange!«\n",
      "    TARGET: \"Lingerer!\" he said, \"my brain is on fire with impatience, and you tarry so long!\"\n",
      " PREDICTED: \" !\" said he , \" my brain is on fire with impatience , and you tarry so long !\"\n",
      "--------------------------------------------------------------------------------\n",
      "    SOURCE: Jim schüttelte den Kopf und antwortete: ,,Es geht nicht, Master Tom.\n",
      "    TARGET: Jim shook his head and said: \"Can't, Mars Tom.\n",
      " PREDICTED: Jim shook his head and said : \" Can ' t , Mars Tom .\n",
      "--------------------------------------------------------------------------------\n",
      "    SOURCE: Jim schüttelte den Kopf und antwortete: ,,Es geht nicht, Master Tom.\n",
      "    TARGET: Jim shook his head and said: \"Can't, Mars Tom.\n",
      " PREDICTED: Jim shook his head and said : \" Can ' t , Mars Tom .\n",
      "--------------------------------------------------------------------------------\n",
      "    SOURCE: Ich hörte sie – vor vielen, vielen Tagen schon – dennoch wagte ich nicht – ich wagte nicht zu reden!\n",
      "    TARGET: I heard them—many, many days ago—yet I dared not—I dared not speak!\n",
      " PREDICTED: I heard them -- many days ago , I did -- yet not dare -- I dared not speak .\n",
      "--------------------------------------------------------------------------------\n",
      "    SOURCE: Ich hörte sie – vor vielen, vielen Tagen schon – dennoch wagte ich nicht – ich wagte nicht zu reden!\n",
      "    TARGET: I heard them—many, many days ago—yet I dared not—I dared not speak!\n",
      " PREDICTED: I heard them -- many days ago , I did -- yet not dare -- I dared not speak .\n",
      "--------------------------------------------------------------------------------\n",
      "    SOURCE: Verdächtig aber blieben die unaufhörlich hervorgehobenen persönlichen Beziehungen zu den Beamten.\n",
      "    TARGET: But it was still suspicious how he continually mentioned his personal contacts with the civil servants.\n",
      " PREDICTED: But it was still suspicious how he continually mentioned his personal contacts with the civil servants .\n",
      "--------------------------------------------------------------------------------\n",
      "    SOURCE: Verdächtig aber blieben die unaufhörlich hervorgehobenen persönlichen Beziehungen zu den Beamten.\n",
      "    TARGET: But it was still suspicious how he continually mentioned his personal contacts with the civil servants.\n",
      " PREDICTED: But it was still suspicious how he continually mentioned his personal contacts with the civil servants .\n",
      "--------------------------------------------------------------------------------\n",
      "    SOURCE: Wenn Ihr einmal Kinder bekommen werdet, Oudarde, werdet Ihr finden, daß nichts so reizend ist, als solche kleine Füße und solche kleine Hände.«\n",
      "    TARGET: When you have children, Oudarde, you will find that there is nothing prettier than those little hands and feet.\"\n",
      " PREDICTED: If you have children , Oudarde , you will find that ' tis nothing prettier than those little hands and feet .\"\n",
      "--------------------------------------------------------------------------------\n",
      "    SOURCE: Wenn Ihr einmal Kinder bekommen werdet, Oudarde, werdet Ihr finden, daß nichts so reizend ist, als solche kleine Füße und solche kleine Hände.«\n",
      "    TARGET: When you have children, Oudarde, you will find that there is nothing prettier than those little hands and feet.\"\n",
      " PREDICTED: If you have children , Oudarde , you will find that ' tis nothing prettier than those little hands and feet .\"\n",
      "--------------------------------------------------------------------------------\n",
      "    SOURCE: »Hm! ich habe genug an diesem hustenden Könige!\n",
      "    TARGET: \"Hum! I have had enough of that coughing king!\n",
      " PREDICTED: \" Hum ! I have had enough of that coughing king !\n",
      "--------------------------------------------------------------------------------\n",
      "--------------------------------------------------------------------------------\n",
      "    SOURCE: »Hm! ich habe genug an diesem hustenden Könige!\n",
      "    TARGET: \"Hum! I have had enough of that coughing king!\n",
      " PREDICTED: \" Hum ! I have had enough of that coughing king !\n",
      "--------------------------------------------------------------------------------\n"
     ]
    }
   ],
   "source": [
    "run_validation(model, val_dataloader, tokenizer_src, tokenizer_tgt, config['seq_len'], device, lambda msg: print(msg), 0, None, num_examples=10)"
   ]
  },
  {
   "cell_type": "code",
   "execution_count": null,
   "id": "704a0cc1",
   "metadata": {},
   "outputs": [
    {
     "name": "stdout",
     "output_type": "stream",
     "text": [
      "Using device: cpu\n"
     ]
    }
   ],
   "source": [
    "t = translate(\"ein guter Student.\")\n",
    "print(f\"Final Translation: {t}\")"
   ]
  }
 ],
 "metadata": {
  "kernelspec": {
   "display_name": ".venv",
   "language": "python",
   "name": "python3"
  },
  "language_info": {
   "codemirror_mode": {
    "name": "ipython",
    "version": 3
   },
   "file_extension": ".py",
   "mimetype": "text/x-python",
   "name": "python",
   "nbconvert_exporter": "python",
   "pygments_lexer": "ipython3",
   "version": "3.12.3"
  }
 },
 "nbformat": 4,
 "nbformat_minor": 5
}
